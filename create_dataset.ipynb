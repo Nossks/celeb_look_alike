{
  "cells": [
    {
      "cell_type": "code",
      "execution_count": 9,
      "metadata": {
        "colab": {
          "base_uri": "https://localhost:8080/"
        },
        "id": "FsuGfT2B-Ajf",
        "outputId": "54bad291-8315-47f2-c001-c43573223691"
      },
      "outputs": [
        {
          "name": "stdout",
          "output_type": "stream",
          "text": [
            "Path to dataset files: /kaggle/input/celebrity-face-image-dataset\n"
          ]
        }
      ],
      "source": [
        "import kagglehub\n",
        "\n",
        "# Download latest version\n",
        "path = kagglehub.dataset_download(\"vishesh1412/celebrity-face-image-dataset\")\n",
        "\n",
        "print(\"Path to dataset files:\", path)"
      ]
    },
    {
      "cell_type": "code",
      "execution_count": 2,
      "metadata": {
        "colab": {
          "base_uri": "https://localhost:8080/"
        },
        "id": "FgbYltH89-Zg",
        "outputId": "544549c0-d95a-4e23-a844-12d7ecb1578c"
      },
      "outputs": [
        {
          "data": {
            "text/plain": [
              "17"
            ]
          },
          "execution_count": 2,
          "metadata": {},
          "output_type": "execute_result"
        }
      ],
      "source": [
        "path = \"/kaggle/input/celebrity-face-image-dataset/Celebrity Faces Dataset\"\n",
        "len(os.listdir(path))"
      ]
    },
    {
      "cell_type": "code",
      "execution_count": null,
      "metadata": {
        "colab": {
          "base_uri": "https://localhost:8080/",
          "height": 811
        },
        "id": "HLq_xwNu7TGl",
        "outputId": "17682c16-baac-4ff0-d910-c020885f106b"
      },
      "outputs": [],
      "source": [
        "!pip install mediapipe"
      ]
    },
    {
      "cell_type": "code",
      "execution_count": null,
      "metadata": {
        "id": "HGjdsI6V5f85"
      },
      "outputs": [],
      "source": [
        "import os\n",
        "import numpy as np\n",
        "import cv2 as cv\n",
        "from google.colab.patches import cv2_imshow\n",
        "import mediapipe as mp\n",
        "\n",
        "mpFaceDetection=mp.solutions.face_detection\n",
        "mpDraw=mp.solutions.drawing_utils\n",
        "faceDetection=mpFaceDetection.FaceDetection(model_selection=0, min_detection_confidence=0.5)"
      ]
    },
    {
      "cell_type": "code",
      "execution_count": 6,
      "metadata": {
        "id": "Ke7q-n9W9_6k"
      },
      "outputs": [],
      "source": [
        "os.makedirs(\"faces\",exist_ok=True)\n",
        "\n",
        "for j,celeb in enumerate(sorted(os.listdir(path))):\n",
        "    os.makedirs(os.path.join(\"faces\",celeb),exist_ok=True)\n",
        "    for file_name in os.listdir(os.path.join(path,celeb)):\n",
        "\n",
        "        img = cv.imread(os.path.join(path,celeb,file_name))\n",
        "        if img is None:\n",
        "          continue\n",
        "        img = cv.cvtColor(img,cv.COLOR_BGR2RGB)\n",
        "\n",
        "        result = faceDetection.process(img)\n",
        "        if result.detections:\n",
        "          detection = result.detections[0]\n",
        "          BboxC = detection.location_data.relative_bounding_box\n",
        "\n",
        "          ih,iw,_ = img.shape\n",
        "          x = max(int(BboxC.xmin*iw),0)\n",
        "          y = max(int(BboxC.ymin*ih),0)\n",
        "          w = int(BboxC.width*iw)\n",
        "          h = int(BboxC.height*ih)\n",
        "          x2 = min(iw,x+w)\n",
        "          y2 = min(ih,y+h)\n",
        "\n",
        "          face_img = img[y:y2,x:x2]\n",
        "          face_img = cv.resize(face_img,(256,256))\n",
        "          face_img = cv.cvtColor(face_img,cv.COLOR_RGB2BGR)\n",
        "          # cv2_imshow(face_img)\n",
        "\n",
        "          save_path = os.path.join(\"faces\",celeb,file_name)\n",
        "          cv.imwrite(save_path,face_img)\n",
        "        # break\n"
      ]
    },
    {
      "cell_type": "code",
      "execution_count": 7,
      "metadata": {
        "colab": {
          "base_uri": "https://localhost:8080/",
          "height": 35
        },
        "id": "_iay83q5R221",
        "outputId": "dee6e7c2-8385-4e2c-b55d-b1a86aaa0f33"
      },
      "outputs": [
        {
          "data": {
            "application/vnd.google.colaboratory.intrinsic+json": {
              "type": "string"
            },
            "text/plain": [
              "'/content/faces.zip'"
            ]
          },
          "execution_count": 7,
          "metadata": {},
          "output_type": "execute_result"
        }
      ],
      "source": [
        "import shutil\n",
        "\n",
        "shutil.make_archive(\"faces\",\"zip\",\"faces\")"
      ]
    },
    {
      "cell_type": "code",
      "execution_count": null,
      "metadata": {},
      "outputs": [],
      "source": [
        "print(mp.__version__)\n",
        "print(np.__version__)"
      ]
    }
  ],
  "metadata": {
    "colab": {
      "provenance": []
    },
    "kernelspec": {
      "display_name": "venv",
      "language": "python",
      "name": "python3"
    },
    "language_info": {
      "codemirror_mode": {
        "name": "ipython",
        "version": 3
      },
      "file_extension": ".py",
      "mimetype": "text/x-python",
      "name": "python",
      "nbconvert_exporter": "python",
      "pygments_lexer": "ipython3",
      "version": "3.12.3"
    }
  },
  "nbformat": 4,
  "nbformat_minor": 0
}
